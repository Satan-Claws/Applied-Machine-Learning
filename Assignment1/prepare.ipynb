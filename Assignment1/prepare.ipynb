{
 "cells": [
  {
   "cell_type": "markdown",
   "id": "3a280f32-7d18-41fb-a64a-2efe70097b3c",
   "metadata": {},
   "source": [
    "## import stuff"
   ]
  },
  {
   "cell_type": "code",
   "execution_count": 1,
   "id": "d7dfbf59-76bc-4d12-a0b0-dbba28360044",
   "metadata": {},
   "outputs": [],
   "source": [
    "import pandas as pd\n",
    "import re\n",
    "import nltk\n",
    "from sklearn.model_selection import train_test_split\n",
    "from nltk.corpus import stopwords\n",
    "from nltk.tokenize import word_tokenize\n",
    "from nltk.stem import WordNetLemmatizer\n",
    "from tqdm import tqdm"
   ]
  },
  {
   "cell_type": "markdown",
   "id": "637a1023-815c-4323-8d7f-787c57f408f5",
   "metadata": {},
   "source": [
    "## For preprocessing, my hypothesis is that words with special characters or capitalization, like \"FREE!!!\", have a higher likelihood of indicating spam. Removing them might strip away valuable features that help distinguish spam from ham. Instead, I focus on lemmatization and stopword removal, as these steps help normalize the text while preserving its meaningful content."
   ]
  },
  {
   "cell_type": "code",
   "execution_count": 2,
   "id": "d606d90a-573c-444b-9e3e-1174eb102f8e",
   "metadata": {},
   "outputs": [],
   "source": [
    "def preprocess_text(text):\n",
    "    tokens = word_tokenize(text)  # Tokenization\n",
    "    tokens = [word for word in tokens if word.lower() not in stopwords.words('english')]  # Remove stopwords\n",
    "    lemmatizer = WordNetLemmatizer()\n",
    "    tokens = [lemmatizer.lemmatize(word) for word in tokens]  # Lemmatization\n",
    "    return ' '.join(tokens)"
   ]
  },
  {
   "cell_type": "code",
   "execution_count": 3,
   "id": "da5c3d4a-dd83-4906-bdaa-265ab54c41ce",
   "metadata": {},
   "outputs": [],
   "source": [
    "file_path = \"sms+spam+collection/SMSSpamCollection\"\n",
    "\n",
    "ham_messages = []\n",
    "spam_messages = []"
   ]
  },
  {
   "cell_type": "code",
   "execution_count": 4,
   "id": "4a151f52-9376-4e07-a982-8c3a74e0bebd",
   "metadata": {},
   "outputs": [
    {
     "name": "stderr",
     "output_type": "stream",
     "text": [
      "reading file: 100%|█████████████████████| 5574/5574 [00:03<00:00, 1498.19line/s]\n"
     ]
    }
   ],
   "source": [
    "# Read File\n",
    "with open(file_path, 'r', encoding='utf-8') as file:\n",
    "    lines = file.readlines()\n",
    "\n",
    "for line in tqdm(lines, desc=\"reading file\", unit=\"line\"):\n",
    "    if line.startswith(\"ham\"):\n",
    "        ham_messages.append(preprocess_text(line[4:].strip()))\n",
    "    elif line.startswith(\"spam\"):\n",
    "        spam_messages.append(preprocess_text(line[5:].strip()))"
   ]
  },
  {
   "cell_type": "code",
   "execution_count": 5,
   "id": "0d1dbaed-ab7a-4706-ad46-5edeed8410f2",
   "metadata": {},
   "outputs": [
    {
     "name": "stdout",
     "output_type": "stream",
     "text": [
      "2787 1393 1394\n"
     ]
    }
   ],
   "source": [
    "data = pd.DataFrame({\n",
    "    \"text\": ham_messages + spam_messages,\n",
    "    \"label\": [0] * len(ham_messages) + [1] * len(spam_messages)  # 1 for spam, 0 otw\n",
    "})\n",
    "\n",
    "train, temp_df = train_test_split(data, test_size=0.5)\n",
    "validation, test = train_test_split(temp_df, test_size=0.5)\n",
    "#not stratifying to not add bias\n",
    "\n",
    "print(len(train),len(validation),len(test)) # 50-25-25 split\n",
    "train.to_csv(\"train.csv\", index=False)\n",
    "validation.to_csv(\"validation.csv\", index=False)\n",
    "test.to_csv(\"test.csv\", index=False)"
   ]
  },
  {
   "cell_type": "code",
   "execution_count": 6,
   "id": "5ba8bdfb-4b2a-4ab3-aa49-4b92a698160e",
   "metadata": {},
   "outputs": [
    {
     "data": {
      "text/html": [
       "<div>\n",
       "<style scoped>\n",
       "    .dataframe tbody tr th:only-of-type {\n",
       "        vertical-align: middle;\n",
       "    }\n",
       "\n",
       "    .dataframe tbody tr th {\n",
       "        vertical-align: top;\n",
       "    }\n",
       "\n",
       "    .dataframe thead th {\n",
       "        text-align: right;\n",
       "    }\n",
       "</style>\n",
       "<table border=\"1\" class=\"dataframe\">\n",
       "  <thead>\n",
       "    <tr style=\"text-align: right;\">\n",
       "      <th></th>\n",
       "      <th>text</th>\n",
       "      <th>label</th>\n",
       "    </tr>\n",
       "  </thead>\n",
       "  <tbody>\n",
       "    <tr>\n",
       "      <th>0</th>\n",
       "      <td>Go jurong point , crazy .. Available bugis n g...</td>\n",
       "      <td>0</td>\n",
       "    </tr>\n",
       "    <tr>\n",
       "      <th>1</th>\n",
       "      <td>Ok lar ... Joking wif u oni ...</td>\n",
       "      <td>0</td>\n",
       "    </tr>\n",
       "    <tr>\n",
       "      <th>2</th>\n",
       "      <td>U dun say early hor ... U c already say ...</td>\n",
       "      <td>0</td>\n",
       "    </tr>\n",
       "    <tr>\n",
       "      <th>3</th>\n",
       "      <td>Nah n't think go usf , life around though</td>\n",
       "      <td>0</td>\n",
       "    </tr>\n",
       "    <tr>\n",
       "      <th>4</th>\n",
       "      <td>Even brother like speak . treat like aid patent .</td>\n",
       "      <td>0</td>\n",
       "    </tr>\n",
       "    <tr>\n",
       "      <th>...</th>\n",
       "      <td>...</td>\n",
       "      <td>...</td>\n",
       "    </tr>\n",
       "    <tr>\n",
       "      <th>5569</th>\n",
       "      <td>Want explicit SEX 30 sec ? Ring 02073162414 ! ...</td>\n",
       "      <td>1</td>\n",
       "    </tr>\n",
       "    <tr>\n",
       "      <th>5570</th>\n",
       "      <td>ASKED 3MOBILE 0870 CHATLINES INCLU FREE MINS ....</td>\n",
       "      <td>1</td>\n",
       "    </tr>\n",
       "    <tr>\n",
       "      <th>5571</th>\n",
       "      <td>contract mobile 11 Mnths ? Latest Motorola , N...</td>\n",
       "      <td>1</td>\n",
       "    </tr>\n",
       "    <tr>\n",
       "      <th>5572</th>\n",
       "      <td>REMINDER O2 : get 2.50 pound free call credit ...</td>\n",
       "      <td>1</td>\n",
       "    </tr>\n",
       "    <tr>\n",
       "      <th>5573</th>\n",
       "      <td>2nd time tried 2 contact u. U £750 Pound prize...</td>\n",
       "      <td>1</td>\n",
       "    </tr>\n",
       "  </tbody>\n",
       "</table>\n",
       "<p>5574 rows × 2 columns</p>\n",
       "</div>"
      ],
      "text/plain": [
       "                                                   text  label\n",
       "0     Go jurong point , crazy .. Available bugis n g...      0\n",
       "1                       Ok lar ... Joking wif u oni ...      0\n",
       "2           U dun say early hor ... U c already say ...      0\n",
       "3             Nah n't think go usf , life around though      0\n",
       "4     Even brother like speak . treat like aid patent .      0\n",
       "...                                                 ...    ...\n",
       "5569  Want explicit SEX 30 sec ? Ring 02073162414 ! ...      1\n",
       "5570  ASKED 3MOBILE 0870 CHATLINES INCLU FREE MINS ....      1\n",
       "5571  contract mobile 11 Mnths ? Latest Motorola , N...      1\n",
       "5572  REMINDER O2 : get 2.50 pound free call credit ...      1\n",
       "5573  2nd time tried 2 contact u. U £750 Pound prize...      1\n",
       "\n",
       "[5574 rows x 2 columns]"
      ]
     },
     "execution_count": 6,
     "metadata": {},
     "output_type": "execute_result"
    }
   ],
   "source": [
    "data"
   ]
  },
  {
   "cell_type": "code",
   "execution_count": 7,
   "id": "5775ee63-98b2-47c6-980e-dcfd8f1f952e",
   "metadata": {},
   "outputs": [
    {
     "data": {
      "text/html": [
       "<div>\n",
       "<style scoped>\n",
       "    .dataframe tbody tr th:only-of-type {\n",
       "        vertical-align: middle;\n",
       "    }\n",
       "\n",
       "    .dataframe tbody tr th {\n",
       "        vertical-align: top;\n",
       "    }\n",
       "\n",
       "    .dataframe thead th {\n",
       "        text-align: right;\n",
       "    }\n",
       "</style>\n",
       "<table border=\"1\" class=\"dataframe\">\n",
       "  <thead>\n",
       "    <tr style=\"text-align: right;\">\n",
       "      <th></th>\n",
       "      <th>text</th>\n",
       "      <th>label</th>\n",
       "    </tr>\n",
       "  </thead>\n",
       "  <tbody>\n",
       "    <tr>\n",
       "      <th>2031</th>\n",
       "      <td>money issue weigh thanks , breathe easier . I....</td>\n",
       "      <td>0</td>\n",
       "    </tr>\n",
       "    <tr>\n",
       "      <th>3954</th>\n",
       "      <td>buy blackberry bold 2 torch . buy new used . L...</td>\n",
       "      <td>0</td>\n",
       "    </tr>\n",
       "    <tr>\n",
       "      <th>2284</th>\n",
       "      <td>friend use call .</td>\n",
       "      <td>0</td>\n",
       "    </tr>\n",
       "    <tr>\n",
       "      <th>3679</th>\n",
       "      <td>Aah ! cuddle would lush ! 'd need lot tea soup...</td>\n",
       "      <td>0</td>\n",
       "    </tr>\n",
       "    <tr>\n",
       "      <th>2077</th>\n",
       "      <td>Lol please . Actually send pic right . wan na ...</td>\n",
       "      <td>0</td>\n",
       "    </tr>\n",
       "    <tr>\n",
       "      <th>...</th>\n",
       "      <td>...</td>\n",
       "      <td>...</td>\n",
       "    </tr>\n",
       "    <tr>\n",
       "      <th>257</th>\n",
       "      <td>Awesome , remember last time got somebody high...</td>\n",
       "      <td>0</td>\n",
       "    </tr>\n",
       "    <tr>\n",
       "      <th>2174</th>\n",
       "      <td>Ok . ask abt e movie . U wan ktv oso ?</td>\n",
       "      <td>0</td>\n",
       "    </tr>\n",
       "    <tr>\n",
       "      <th>5077</th>\n",
       "      <td>Call FREEPHONE 0800 542 0578 !</td>\n",
       "      <td>1</td>\n",
       "    </tr>\n",
       "    <tr>\n",
       "      <th>2119</th>\n",
       "      <td>Nope . Meanwhile talk say make greet .</td>\n",
       "      <td>0</td>\n",
       "    </tr>\n",
       "    <tr>\n",
       "      <th>3526</th>\n",
       "      <td>actual exam harder NBME</td>\n",
       "      <td>0</td>\n",
       "    </tr>\n",
       "  </tbody>\n",
       "</table>\n",
       "<p>2787 rows × 2 columns</p>\n",
       "</div>"
      ],
      "text/plain": [
       "                                                   text  label\n",
       "2031  money issue weigh thanks , breathe easier . I....      0\n",
       "3954  buy blackberry bold 2 torch . buy new used . L...      0\n",
       "2284                                  friend use call .      0\n",
       "3679  Aah ! cuddle would lush ! 'd need lot tea soup...      0\n",
       "2077  Lol please . Actually send pic right . wan na ...      0\n",
       "...                                                 ...    ...\n",
       "257   Awesome , remember last time got somebody high...      0\n",
       "2174             Ok . ask abt e movie . U wan ktv oso ?      0\n",
       "5077                     Call FREEPHONE 0800 542 0578 !      1\n",
       "2119             Nope . Meanwhile talk say make greet .      0\n",
       "3526                            actual exam harder NBME      0\n",
       "\n",
       "[2787 rows x 2 columns]"
      ]
     },
     "execution_count": 7,
     "metadata": {},
     "output_type": "execute_result"
    }
   ],
   "source": [
    "train"
   ]
  }
 ],
 "metadata": {
  "kernelspec": {
   "display_name": "Python 3 (ipykernel)",
   "language": "python",
   "name": "python3"
  },
  "language_info": {
   "codemirror_mode": {
    "name": "ipython",
    "version": 3
   },
   "file_extension": ".py",
   "mimetype": "text/x-python",
   "name": "python",
   "nbconvert_exporter": "python",
   "pygments_lexer": "ipython3",
   "version": "3.12.7"
  }
 },
 "nbformat": 4,
 "nbformat_minor": 5
}
