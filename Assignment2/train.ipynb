{
 "cells": [
  {
   "cell_type": "markdown",
   "id": "5c15ec3a",
   "metadata": {},
   "source": [
    "### Import Stuff"
   ]
  },
  {
   "cell_type": "code",
   "execution_count": 1,
   "id": "433e312e-8583-41f8-82f2-93fe425727b0",
   "metadata": {},
   "outputs": [],
   "source": [
    "import pandas as pd\n",
    "import numpy as np\n",
    "from sklearn.feature_extraction.text import TfidfVectorizer\n",
    "from sklearn.linear_model import LogisticRegression\n",
    "from sklearn.ensemble import RandomForestClassifier\n",
    "from sklearn.naive_bayes import MultinomialNB\n",
    "from sklearn.metrics import precision_recall_curve, auc\n",
    "import mlflow\n",
    "import mlflow.sklearn\n",
    "import pickle\n",
    "import os\n",
    "from mlflow.models.signature import infer_signature"
   ]
  },
  {
   "cell_type": "markdown",
   "id": "38578763",
   "metadata": {},
   "source": [
    "### Set Up Stuff"
   ]
  },
  {
   "cell_type": "code",
   "execution_count": 2,
   "id": "893610cf",
   "metadata": {},
   "outputs": [],
   "source": [
    "mlflow.set_experiment(\"SMS Spam Classification\")\n",
    "\n",
    "with open('data/vectorizer.pkl', 'rb') as f:\n",
    "    vectorizer = pickle.load(f)\n"
   ]
  },
  {
   "cell_type": "code",
   "execution_count": 3,
   "id": "d9fe9104",
   "metadata": {},
   "outputs": [
    {
     "name": "stdout",
     "output_type": "stream",
     "text": [
      "\n",
      "=== Checking out first version ===\n",
      "Building workspace index                             |5.00 [00:00, 1.04kentry/s]\n",
      "Comparing indexes                                    |6.00 [00:00, 6.83kentry/s]\n",
      "Applying changes                                      |3.00 [00:00, 2.50kfile/s]\n",
      "\u001b[33mM\u001b[0m       data/validation.csv\n",
      "\u001b[33mM\u001b[0m       data/train.csv\n",
      "\u001b[33mM\u001b[0m       data/test.csv\n",
      "\u001b[0m\n",
      "Distribution for first version (seed 42):\n",
      "Train: {0: 2404, 1: 383}\n",
      "Validation: {0: 1212, 1: 181}\n",
      "Test: {0: 1211, 1: 183}\n"
     ]
    }
   ],
   "source": [
    "def calculate_aucpr(model, X, y_true):\n",
    "    y_score = model.predict_proba(X)[:, 1]\n",
    "    precision, recall, _ = precision_recall_curve(y_true, y_score)\n",
    "    return auc(recall, precision)\n",
    "\n",
    "print(\"\\n=== Checking out first version ===\")\n",
    "!git checkout $(cat first_version_commit.txt) -- data/*.dvc\n",
    "!dvc checkout\n",
    "\n",
    "train = pd.read_csv('data/train.csv')\n",
    "validation = pd.read_csv('data/validation.csv')\n",
    "test = pd.read_csv('data/test.csv')\n",
    "\n",
    "print(\"\\nDistribution for first version (seed 42):\")\n",
    "print(\"Train:\", train['label'].value_counts().to_dict())\n",
    "print(\"Validation:\", validation['label'].value_counts().to_dict())\n",
    "print(\"Test:\", test['label'].value_counts().to_dict())\n",
    "\n"
   ]
  },
  {
   "cell_type": "markdown",
   "id": "97cc9820",
   "metadata": {},
   "source": [
    "### Train First Version"
   ]
  },
  {
   "cell_type": "code",
   "execution_count": 4,
   "id": "c608b9e5",
   "metadata": {},
   "outputs": [],
   "source": [
    "X_train = vectorizer.transform(train['text'])\n",
    "y_train = train['label']\n",
    "X_val = vectorizer.transform(validation['text'])\n",
    "y_val = validation['label']\n",
    "X_test = vectorizer.transform(test['text'])\n",
    "y_test = test['label']\n",
    "\n",
    "input_example = X_train[:5]\n"
   ]
  },
  {
   "cell_type": "code",
   "execution_count": 5,
   "id": "040d5598",
   "metadata": {},
   "outputs": [
    {
     "name": "stderr",
     "output_type": "stream",
     "text": [
      "Registered model 'LogisticRegressionSpamClassifier' already exists. Creating a new version of this model...\n",
      "Created version '3' of model 'LogisticRegressionSpamClassifier'.\n"
     ]
    },
    {
     "name": "stdout",
     "output_type": "stream",
     "text": [
      "Logistic Regression - Validation AUCPR: 0.9669121739445934, Test AUCPR: 0.9575823254195548\n"
     ]
    },
    {
     "name": "stderr",
     "output_type": "stream",
     "text": [
      "Registered model 'RandomForestSpamClassifier' already exists. Creating a new version of this model...\n",
      "Created version '3' of model 'RandomForestSpamClassifier'.\n"
     ]
    },
    {
     "name": "stdout",
     "output_type": "stream",
     "text": [
      "Random Forest - Validation AUCPR: 0.9852913349991586, Test AUCPR: 0.9797536516682984\n",
      "Naive Bayes - Validation AUCPR: 0.9758677579099335, Test AUCPR: 0.9609885796097488\n"
     ]
    },
    {
     "name": "stderr",
     "output_type": "stream",
     "text": [
      "Registered model 'NaiveBayesSpamClassifier' already exists. Creating a new version of this model...\n",
      "Created version '3' of model 'NaiveBayesSpamClassifier'.\n"
     ]
    }
   ],
   "source": [
    "\n",
    "with mlflow.start_run(run_name=\"Logistic Regression\"):\n",
    "    lr_model = LogisticRegression(max_iter=1000)\n",
    "    lr_model.fit(X_train, y_train)\n",
    "    \n",
    "    predictions = lr_model.predict(input_example)\n",
    "    \n",
    "    signature = infer_signature(input_example, predictions)\n",
    "    \n",
    "    val_aucpr = calculate_aucpr(lr_model, X_val, y_val)\n",
    "    test_aucpr = calculate_aucpr(lr_model, X_test, y_test)\n",
    "    \n",
    "    mlflow.log_param(\"model_type\", \"LogisticRegression\")\n",
    "    mlflow.log_param(\"max_iter\", 1000)\n",
    "    mlflow.log_param(\"data_version\", \"seed 42\")\n",
    "    mlflow.log_metric(\"val_AUCPR\", val_aucpr)\n",
    "    mlflow.log_metric(\"test_AUCPR\", test_aucpr)\n",
    "    \n",
    "    mlflow.sklearn.log_model(\n",
    "        lr_model, \n",
    "        \"logistic_regression_model\",\n",
    "        registered_model_name=\"LogisticRegressionSpamClassifier\",\n",
    "        signature=signature,\n",
    "        input_example=input_example\n",
    "    )\n",
    "    \n",
    "    print(f\"Logistic Regression - Validation AUCPR: {val_aucpr}, Test AUCPR: {test_aucpr}\")\n",
    "\n",
    "with mlflow.start_run(run_name=\"Random Forest\"):\n",
    "    rf_model = RandomForestClassifier(n_estimators=100)\n",
    "    rf_model.fit(X_train, y_train)\n",
    "    \n",
    "    predictions = rf_model.predict(input_example)\n",
    "    \n",
    "    signature = infer_signature(input_example, predictions)\n",
    "    \n",
    "    val_aucpr = calculate_aucpr(rf_model, X_val, y_val)\n",
    "    test_aucpr = calculate_aucpr(rf_model, X_test, y_test)\n",
    "    \n",
    "    mlflow.log_param(\"model_type\", \"RandomForest\")\n",
    "    mlflow.log_param(\"n_estimators\", 100)\n",
    "    mlflow.log_param(\"data_version\", \"seed 42\")\n",
    "    mlflow.log_metric(\"val_AUCPR\", val_aucpr)\n",
    "    mlflow.log_metric(\"test_AUCPR\", test_aucpr)\n",
    "    \n",
    "    mlflow.sklearn.log_model(\n",
    "        rf_model, \n",
    "        \"random_forest_model\",\n",
    "        registered_model_name=\"RandomForestSpamClassifier\",\n",
    "        signature=signature,\n",
    "        input_example=input_example\n",
    "    )\n",
    "    \n",
    "    print(f\"Random Forest - Validation AUCPR: {val_aucpr}, Test AUCPR: {test_aucpr}\")\n",
    "\n",
    "with mlflow.start_run(run_name=\"Naive Bayes\"):\n",
    "    nb_model = MultinomialNB()\n",
    "    nb_model.fit(X_train, y_train)\n",
    "    \n",
    "    predictions = nb_model.predict(input_example)\n",
    "    \n",
    "    signature = infer_signature(input_example, predictions)\n",
    "    \n",
    "    val_aucpr = calculate_aucpr(nb_model, X_val, y_val)\n",
    "    test_aucpr = calculate_aucpr(nb_model, X_test, y_test)\n",
    "    \n",
    "    mlflow.log_param(\"model_type\", \"MultinomialNB\")\n",
    "    mlflow.log_param(\"data_version\", \"seed 42\")\n",
    "    mlflow.log_metric(\"val_AUCPR\", val_aucpr)\n",
    "    mlflow.log_metric(\"test_AUCPR\", test_aucpr)\n",
    "    \n",
    "    mlflow.sklearn.log_model(\n",
    "        nb_model, \n",
    "        \"naive_bayes_model\",\n",
    "        registered_model_name=\"NaiveBayesSpamClassifier\",\n",
    "        signature=signature,\n",
    "        input_example=input_example\n",
    "    )\n",
    "    \n",
    "    print(f\"Naive Bayes - Validation AUCPR: {val_aucpr}, Test AUCPR: {test_aucpr}\")\n",
    "\n"
   ]
  },
  {
   "cell_type": "markdown",
   "id": "b5b8c6ae",
   "metadata": {},
   "source": [
    "### Display First Version"
   ]
  },
  {
   "cell_type": "code",
   "execution_count": 6,
   "id": "cc33b1b1",
   "metadata": {},
   "outputs": [
    {
     "name": "stdout",
     "output_type": "stream",
     "text": [
      "\n",
      "Model Comparison (First version data - seed 42):\n",
      "Logistic Regression - Validation AUCPR: 0.9669121739445934\n",
      "Random Forest - Validation AUCPR: 0.9852913349991586\n",
      "Naive Bayes - Validation AUCPR: 0.9758677579099335\n"
     ]
    }
   ],
   "source": [
    "\n",
    "print(\"\\nModel Comparison (First version data - seed 42):\")\n",
    "print(f\"Logistic Regression - Validation AUCPR: {calculate_aucpr(lr_model, X_val, y_val)}\")\n",
    "print(f\"Random Forest - Validation AUCPR: {calculate_aucpr(rf_model, X_val, y_val)}\")\n",
    "print(f\"Naive Bayes - Validation AUCPR: {calculate_aucpr(nb_model, X_val, y_val)}\")"
   ]
  },
  {
   "cell_type": "markdown",
   "id": "6b308de4",
   "metadata": {},
   "source": [
    "### Switch to Second Version"
   ]
  },
  {
   "cell_type": "code",
   "execution_count": 7,
   "id": "885e7ad7",
   "metadata": {},
   "outputs": [
    {
     "name": "stdout",
     "output_type": "stream",
     "text": [
      "\n",
      "=== Checking out second version ===\n",
      "Building workspace index                             |5.00 [00:00, 1.54kentry/s]\n",
      "Comparing indexes                                    |6.00 [00:00, 9.33kentry/s]\n",
      "Applying changes                                      |3.00 [00:00, 3.81kfile/s]\n",
      "\u001b[33mM\u001b[0m       data/train.csv\n",
      "\u001b[33mM\u001b[0m       data/validation.csv\n",
      "\u001b[33mM\u001b[0m       data/test.csv\n",
      "\u001b[0m\n",
      "Distribution for second version (seed 123):\n",
      "Train: {0: 2413, 1: 374}\n",
      "Validation: {0: 1208, 1: 185}\n",
      "Test: {0: 1206, 1: 188}\n"
     ]
    }
   ],
   "source": [
    "print(\"\\n=== Checking out second version ===\")\n",
    "!git checkout $(cat second_version_commit.txt) -- data/*.dvc\n",
    "!dvc checkout\n",
    "\n",
    "train = pd.read_csv('data/train.csv')\n",
    "validation = pd.read_csv('data/validation.csv')\n",
    "test = pd.read_csv('data/test.csv')\n",
    "\n",
    "print(\"\\nDistribution for second version (seed 123):\")\n",
    "print(\"Train:\", train['label'].value_counts().to_dict())\n",
    "print(\"Validation:\", validation['label'].value_counts().to_dict())\n",
    "print(\"Test:\", test['label'].value_counts().to_dict())"
   ]
  },
  {
   "cell_type": "markdown",
   "id": "6d5216e5",
   "metadata": {},
   "source": [
    "### Train Second Version"
   ]
  },
  {
   "cell_type": "code",
   "execution_count": 8,
   "id": "8a616120",
   "metadata": {},
   "outputs": [
    {
     "name": "stdout",
     "output_type": "stream",
     "text": [
      "\n",
      "All tracked experiments:\n",
      "                             run_id  metrics.val_AUCPR   params.model_type\n",
      "0  d085b6b98e5745e8a6b87e18ac86cc32           0.975868       MultinomialNB\n",
      "1  6d1fd6bfb2d140de8c9555d37933eda3           0.985291        RandomForest\n",
      "2  d8f176c66aa74efb922913193192a87f           0.966912  LogisticRegression\n",
      "3  0424c4cec49a48ae845835b59abe3ce5           0.975868       MultinomialNB\n",
      "4  d2d201106281428ea1d739a7d5905800           0.983223        RandomForest\n",
      "5  3e825be38dfc4c20883070dc28a45694           0.966912  LogisticRegression\n",
      "6  07d398e727c9458eadeb581f54fe677b           0.975868       MultinomialNB\n",
      "7  a47026fddf804fa3b312779579559e8a           0.981535        RandomForest\n",
      "8  ea54a789af6b463ea7b2a24a3a162453           0.966912  LogisticRegression\n",
      "\n",
      "Model Performance on Second Version Data (seed 123):\n",
      "LogisticRegression (version 3) - Validation AUCPR: 0.9816893780935787, Test AUCPR: 0.9672808496109955\n",
      "RandomForest (version 3) - Validation AUCPR: 0.9962985855592688, Test AUCPR: 0.9878346153653006\n",
      "NaiveBayes (version 3) - Validation AUCPR: 0.9839716327409489, Test AUCPR: 0.9807535399194286\n"
     ]
    },
    {
     "name": "stderr",
     "output_type": "stream",
     "text": [
      "/var/folders/h9/np7f_1yx7fz7jwfj85qydfjm0000gn/T/ipykernel_18089/2713862001.py:24: FutureWarning: ``mlflow.tracking.client.MlflowClient.get_latest_versions`` is deprecated since 2.9.0. Model registry stages will be removed in a future major release. To learn more about the deprecation of model registry stages, see our migration guide here: https://mlflow.org/docs/latest/model-registry.html#migrating-from-stages\n",
      "  latest_version = client.get_latest_versions(model_name)[0].version\n",
      "/var/folders/h9/np7f_1yx7fz7jwfj85qydfjm0000gn/T/ipykernel_18089/2713862001.py:24: FutureWarning: ``mlflow.tracking.client.MlflowClient.get_latest_versions`` is deprecated since 2.9.0. Model registry stages will be removed in a future major release. To learn more about the deprecation of model registry stages, see our migration guide here: https://mlflow.org/docs/latest/model-registry.html#migrating-from-stages\n",
      "  latest_version = client.get_latest_versions(model_name)[0].version\n",
      "/var/folders/h9/np7f_1yx7fz7jwfj85qydfjm0000gn/T/ipykernel_18089/2713862001.py:24: FutureWarning: ``mlflow.tracking.client.MlflowClient.get_latest_versions`` is deprecated since 2.9.0. Model registry stages will be removed in a future major release. To learn more about the deprecation of model registry stages, see our migration guide here: https://mlflow.org/docs/latest/model-registry.html#migrating-from-stages\n",
      "  latest_version = client.get_latest_versions(model_name)[0].version\n"
     ]
    }
   ],
   "source": [
    "X_train = vectorizer.transform(train['text'])\n",
    "y_train = train['label']\n",
    "X_val = vectorizer.transform(validation['text'])\n",
    "y_val = validation['label']\n",
    "X_test = vectorizer.transform(test['text'])\n",
    "y_test = test['label']\n",
    "\n",
    "client = mlflow.tracking.MlflowClient()\n",
    "\n",
    "experiment = client.get_experiment_by_name(\"SMS Spam Classification\")\n",
    "runs = mlflow.search_runs(experiment_ids=[experiment.experiment_id])\n",
    "\n",
    "print(\"\\nAll tracked experiments:\")\n",
    "print(runs[['run_id', 'metrics.val_AUCPR', 'params.model_type']])\n",
    "\n",
    "model_names = {\n",
    "    \"LogisticRegression\": \"LogisticRegressionSpamClassifier\",\n",
    "    \"RandomForest\": \"RandomForestSpamClassifier\",\n",
    "    \"NaiveBayes\": \"NaiveBayesSpamClassifier\"\n",
    "}\n",
    "\n",
    "print(\"\\nModel Performance on Second Version Data (seed 123):\")\n",
    "for name, model_name in model_names.items():\n",
    "    latest_version = client.get_latest_versions(model_name)[0].version\n",
    "    \n",
    "    model_uri = f\"models:/{model_name}/{latest_version}\"\n",
    "    model = mlflow.sklearn.load_model(model_uri)\n",
    "    \n",
    "    val_aucpr = calculate_aucpr(model, X_val, y_val)\n",
    "    test_aucpr = calculate_aucpr(model, X_test, y_test)\n",
    "    print(f\"{name} (version {latest_version}) - Validation AUCPR: {val_aucpr}, Test AUCPR: {test_aucpr}\")"
   ]
  }
 ],
 "metadata": {
  "kernelspec": {
   "display_name": "base",
   "language": "python",
   "name": "python3"
  },
  "language_info": {
   "codemirror_mode": {
    "name": "ipython",
    "version": 3
   },
   "file_extension": ".py",
   "mimetype": "text/x-python",
   "name": "python",
   "nbconvert_exporter": "python",
   "pygments_lexer": "ipython3",
   "version": "3.12.7"
  }
 },
 "nbformat": 4,
 "nbformat_minor": 5
}
